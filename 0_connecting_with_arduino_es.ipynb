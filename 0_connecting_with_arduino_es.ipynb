{
 "cells": [
  {
   "cell_type": "code",
   "execution_count": 1,
   "metadata": {},
   "outputs": [],
   "source": [
    "#### LOZANO GARCIA EDUARDO ALEJNADRO  elozango1600@alumno.ipn.mx\n",
    "#### UPIBI IPN- Mexcio City, MEXICO , BMSIS Visting Scholar Washington D.C., United States \n",
    "#### 04/11/2021\n",
    "\n",
    "import time      # Default library\n",
    "import binascii  # Dfault library \n",
    "import serial    # pip install pyserial"
   ]
  },
  {
   "cell_type": "markdown",
   "metadata": {},
   "source": [
    "# Protocolos de comunicación\n",
    "\n",
    "Un protocolo de comunicación es un sistema de reglas que permite que dos o más entidades de un sistema de comunicaciones transmitan información a través de cualquier tipo de variación de una cantidad física. El protocolo define las reglas, la sintaxis, la semántica y la sincronización de la comunicación y los posibles métodos de recuperación de errores. Los protocolos pueden implementarse mediante hardware, software o una combinación de ambos.\n",
    "\n",
    "## Protocolos de comunicación comunes:\n",
    "* UART\n",
    "* I2C\n",
    "* SPI\n",
    "\n",
    "## Tipos  protocolos de comunicación:\n",
    "\n",
    "\n",
    "### Comunicación serial:\n",
    "La comunicación en serial es el proceso de envío de datos de un bit a la vez, secuencialmente, a través de un canal de comunicación o bus de computadora. Esto contrasta con la comunicación en paralelo, donde se envían varios bits como un todo, en un enlace con varios canales en paralelo.\n",
    "\n",
    "### Comunicación Paralala:\n",
    "La diferencia básica entre un canal de comunicación paralelo y uno serial es el número de conductores eléctricos utilizados en la capa física para transmitir bits. La comunicación paralela implica más de uno de esos conductores. Por ejemplo, un canal paralelo de 8 bits transmitirá ocho bits (o un byte) simultáneamente, mientras que un canal serie transmitirá esos mismos bits secuencialmente, uno a la vez. Si ambos canales funcionaran a la misma velocidad de reloj, el canal paralelo sería ocho veces más rápido. Un canal paralelo puede tener conductores adicionales para otras señales, como una señal de reloj para marcar el ritmo del flujo de datos, una señal para controlar la dirección del flujo de datos y señales de reconocimiento.\n",
    "\n",
    "<img src=\"images\\Capture.PNG\" alt=\"Drawing\" style=\"width: 300px;\"/>\n",
    "\n",
    "\n",
    "\n",
    "###  Comunicación asíncrona\n",
    "La comunicación asíncrona es la transmisión de datos, generalmente sin el uso de una señal de reloj externa, donde los datos se pueden transmitir de forma intermitente en lugar de en un flujo constante. Cualquier tiempo necesario para recuperar datos de los símbolos de comunicación se codifica dentro de los símbolos.\n",
    "\n",
    "El aspecto más significativo de las comunicaciones asíncronas es que los datos no se transmiten a intervalos regulares, lo que hace posible una tasa de bits variable, y que los generadores de reloj del transmisor y el receptor no tienen que estar sincronizados exactamente todo el tiempo. En la transmisión asíncrona, los datos se envían un byte a la vez y cada byte está precedido por un bit de inicio y un bit de parada.\n",
    "\n",
    "### Comunicación síncrona\n",
    "La comunicación serial síncrona describe un protocolo de comunicación en serie en el que \"los datos se envían en un flujo continuo a una velocidad constante.\n",
    "\n",
    "La comunicación síncrona requiere que los relojes de los dispositivos de transmisión y recepción estén sincronizados, funcionando a la misma velocidad, para que el receptor pueda muestrear la señal en los mismos intervalos de tiempo utilizados por el transmisor. No se requieren bits de inicio ni de parada. Por esta razón, la comunicación síncrona permite que se pase más información por un circuito por unidad de tiempo que la comunicación en serie asíncrona. Con el tiempo, los relojes de transmisión y recepción tenderán a separarse, requiriendo resincronización.\n",
    "\n",
    "<img src=\"images\\sunchronous_asyncronous.PNG\" alt=\"Drawing\" style=\"width: 500px;\"/>\n",
    "\n",
    "## UART (Universal Asynchronous Receiver/Transmitter)\n",
    "El propusto de  UART es transmitir y recibir datos seriales.\n",
    "\n",
    "Solo requiere 3 cables: Tx (transmisor), Rc (receptor) y tierra común.\n",
    "\n",
    "<img src=\"images\\connections.PNG\" alt=\"Drawing\" style=\"width: 500px;\"/>\n",
    "\n",
    "UART es:\n",
    "* Serial: la información se envía bit a bit secuencialmente\n",
    "* Asíncrono: no hay reloj interno\n",
    "\n",
    "\n",
    "Si no hay reloj, ¿cómo puede UART interpretar los datos?\n",
    "<br>\n",
    "Antes de enviar los datos, UART agrega un ** START BIT **, un ** PARITY BIT ** y un ** STOP BIT **\n",
    "\n",
    "\n",
    "<img src=\"images\\singal.png\" alt=\"Drawing\" style=\"width: 500px;\"/>\n",
    "\n",
    "Este protocolo no tiene reloj, pero es importante que tanto el receptor como el transmisor estén configurados a la misma ** VELOCIDAD EN BAUDIOS **. Es decir, el número de bits por segundo, la velocidad en baudios más común es 9600, esto es, 9600 bits / segundo.\n",
    "\n",
    "\n",
    "## Example\n",
    "Imaginemos que queremos transmitir el carácter \"O\" mayúscula"
   ]
  },
  {
   "cell_type": "code",
   "execution_count": 3,
   "metadata": {},
   "outputs": [
    {
     "name": "stdout",
     "output_type": "stream",
     "text": [
      "Character O, Binary value (8 bits): 0b1001111\n"
     ]
    }
   ],
   "source": [
    "print(\"Character O, Binary value (8 bits):\",bin(int.from_bytes('O'.encode(), 'little')))"
   ]
  },
  {
   "cell_type": "markdown",
   "metadata": {},
   "source": [
    "\n",
    "Para enviar estos datos, debemos agregar un bit ** START ** y ** END **. Tenga en cuenta que los datos se enviarán desde el bit menos significativo al bit más significativo (de izquierda a derecha).\n",
    "\n",
    "Esto indica que los datos enviados serán: \n",
    "1111110 **11110010** 111111\n",
    "\n",
    "<img src=\"images\\O_UART.PNG\" alt=\"Drawing\" style=\"width: 700px;\"/>\n",
    "\n",
    "\n",
    "\n",
    "<img src=\"images\\O_OScilo.PNG\" alt=\"Drawing\" style=\"width: 600px;\"/>"
   ]
  },
  {
   "cell_type": "markdown",
   "metadata": {},
   "source": [
    "## Usando UART para comunicar Python con Arduino\n",
    "Podríamos implementar UART desde cero, sin embargo, ya hay una biblioteca construida para nosotros llamada ** Pyserial **. Para establecer la comunicación solo necesitamos especificar:\n",
    "* **COM PORT:** Puerto donde está conectado arduino.\n",
    "* **Velocidad en baudios:** Velocidad en baudios a la que se configura arduino.\n",
    "* **Timeour:** Tiempo que esperará la comunicación si se enviaron datos, si los datos no se envían en el intervalo especificado, los datos se perderán.\n",
    "\n",
    "Es importante que usemos time.sleep (2) para poder esperar a que se inicie la comunicación, una vez iniciada la comunicación podemos empezar a enviar los datos.\n",
    "\n",
    "Una vez hayamos enviado todos los datos, es importante cerrar la conexión, ten en cuenta que mientras la conexión esté abierta no podrás usar el puerto con otro dispositivo (esto significa que no podrás abrir el monitor serial en Arduino)."
   ]
  },
  {
   "cell_type": "markdown",
   "metadata": {},
   "source": [
    "### Ejemplo\n",
    "Con el siguiente código encenderemos y apagaremos un led con python. Es importante tener en cuenta que esto no reemplazará el código de arduino, necesitamos escribir algo de código en arduino y algo de código en python. \n",
    "\n",
    "## Code in arduino\n",
    "\n",
    "``` C\n",
    "// Code For Master Bluetooth Module \n",
    "int LED = 7;                    // Activate built-in LED\n",
    "char dataFrompython;            // Variable for Data recived from python\n",
    "\n",
    "void setup() {\n",
    "  Serial.begin(9600);    // ARDUINO BAUD RATE\n",
    "  pinMode(LED,OUTPUT);   // LED PIN \n",
    "  }\n",
    "  \n",
    "void loop() {\n",
    "  if (Serial.available() > 0){\n",
    "    dataFrompython =  Serial.read();\n",
    "    if (dataFrompython == '1'){\n",
    "       digitalWrite(LED, HIGH);\n",
    "    }\n",
    "    if (dataFrompython == '2'){\n",
    "       digitalWrite(LED, LOW);\n",
    "    }\n",
    "  }\n",
    " \n",
    "}\n",
    "```\n",
    "\n",
    "## Circuit\n",
    "\n",
    "<img src=\"images\\arduino_basics.PNG.png\" alt=\"Drawing\" style=\"width: 300px;\"/>\n"
   ]
  },
  {
   "cell_type": "code",
   "execution_count": 11,
   "metadata": {},
   "outputs": [],
   "source": [
    "COM = \"COM5\"                                   # Select COM\n",
    "b=9600                                         # Select BAUDRATE\n",
    "t=1                                            # Selecet Timeout\n",
    "ser =  serial.Serial(COM,baudrate=b,timeout=t) # Initiate Communication\n",
    "time.sleep(2)                                  # Wait 2 Seconds \n",
    "ser.write(b\"1\")                                # Send 1 to arduino\n",
    "time.sleep(10)                                 # Wait 10 Seconds \n",
    "ser.write(b\"2\")                                # Send 2 to arduino\n",
    "ser.close()                                    # Close connection"
   ]
  }
 ],
 "metadata": {
  "kernelspec": {
   "display_name": "serial-env",
   "language": "python",
   "name": "serial-env"
  },
  "language_info": {
   "codemirror_mode": {
    "name": "ipython",
    "version": 3
   },
   "file_extension": ".py",
   "mimetype": "text/x-python",
   "name": "python",
   "nbconvert_exporter": "python",
   "pygments_lexer": "ipython3",
   "version": "3.7.9"
  }
 },
 "nbformat": 4,
 "nbformat_minor": 4
}
